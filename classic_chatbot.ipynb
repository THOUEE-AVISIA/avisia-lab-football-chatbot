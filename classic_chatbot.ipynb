{
 "cells": [
  {
   "cell_type": "code",
   "execution_count": 1,
   "metadata": {},
   "outputs": [
    {
     "name": "stdout",
     "output_type": "stream",
     "text": [
      "Requirement already satisfied: langchain in c:\\users\\dell\\anaconda3\\lib\\site-packages (0.1.12)\n",
      "Requirement already satisfied: PyYAML>=5.3 in c:\\users\\dell\\anaconda3\\lib\\site-packages (from langchain) (6.0.1)\n",
      "Requirement already satisfied: SQLAlchemy<3,>=1.4 in c:\\users\\dell\\anaconda3\\lib\\site-packages (from langchain) (2.0.25)\n",
      "Requirement already satisfied: aiohttp<4.0.0,>=3.8.3 in c:\\users\\dell\\anaconda3\\lib\\site-packages (from langchain) (3.9.3)\n",
      "Requirement already satisfied: dataclasses-json<0.7,>=0.5.7 in c:\\users\\dell\\anaconda3\\lib\\site-packages (from langchain) (0.6.4)\n",
      "Requirement already satisfied: jsonpatch<2.0,>=1.33 in c:\\users\\dell\\anaconda3\\lib\\site-packages (from langchain) (1.33)\n",
      "Requirement already satisfied: langchain-community<0.1,>=0.0.28 in c:\\users\\dell\\anaconda3\\lib\\site-packages (from langchain) (0.0.28)\n",
      "Requirement already satisfied: langchain-core<0.2.0,>=0.1.31 in c:\\users\\dell\\anaconda3\\lib\\site-packages (from langchain) (0.1.31)\n",
      "Requirement already satisfied: langchain-text-splitters<0.1,>=0.0.1 in c:\\users\\dell\\anaconda3\\lib\\site-packages (from langchain) (0.0.1)\n",
      "Requirement already satisfied: langsmith<0.2.0,>=0.1.17 in c:\\users\\dell\\anaconda3\\lib\\site-packages (from langchain) (0.1.25)\n",
      "Requirement already satisfied: numpy<2,>=1 in c:\\users\\dell\\anaconda3\\lib\\site-packages (from langchain) (1.26.4)\n",
      "Requirement already satisfied: pydantic<3,>=1 in c:\\users\\dell\\anaconda3\\lib\\site-packages (from langchain) (1.10.12)\n",
      "Requirement already satisfied: requests<3,>=2 in c:\\users\\dell\\anaconda3\\lib\\site-packages (from langchain) (2.31.0)\n",
      "Requirement already satisfied: tenacity<9.0.0,>=8.1.0 in c:\\users\\dell\\anaconda3\\lib\\site-packages (from langchain) (8.2.2)\n",
      "Requirement already satisfied: aiosignal>=1.1.2 in c:\\users\\dell\\anaconda3\\lib\\site-packages (from aiohttp<4.0.0,>=3.8.3->langchain) (1.2.0)\n",
      "Requirement already satisfied: attrs>=17.3.0 in c:\\users\\dell\\anaconda3\\lib\\site-packages (from aiohttp<4.0.0,>=3.8.3->langchain) (23.1.0)\n",
      "Requirement already satisfied: frozenlist>=1.1.1 in c:\\users\\dell\\anaconda3\\lib\\site-packages (from aiohttp<4.0.0,>=3.8.3->langchain) (1.4.0)\n",
      "Requirement already satisfied: multidict<7.0,>=4.5 in c:\\users\\dell\\anaconda3\\lib\\site-packages (from aiohttp<4.0.0,>=3.8.3->langchain) (6.0.4)\n",
      "Requirement already satisfied: yarl<2.0,>=1.0 in c:\\users\\dell\\anaconda3\\lib\\site-packages (from aiohttp<4.0.0,>=3.8.3->langchain) (1.9.3)\n",
      "Requirement already satisfied: marshmallow<4.0.0,>=3.18.0 in c:\\users\\dell\\anaconda3\\lib\\site-packages (from dataclasses-json<0.7,>=0.5.7->langchain) (3.21.1)\n",
      "Requirement already satisfied: typing-inspect<1,>=0.4.0 in c:\\users\\dell\\anaconda3\\lib\\site-packages (from dataclasses-json<0.7,>=0.5.7->langchain) (0.9.0)\n",
      "Requirement already satisfied: jsonpointer>=1.9 in c:\\users\\dell\\anaconda3\\lib\\site-packages (from jsonpatch<2.0,>=1.33->langchain) (2.1)\n",
      "Requirement already satisfied: anyio<5,>=3 in c:\\users\\dell\\anaconda3\\lib\\site-packages (from langchain-core<0.2.0,>=0.1.31->langchain) (4.2.0)\n",
      "Requirement already satisfied: packaging<24.0,>=23.2 in c:\\users\\dell\\anaconda3\\lib\\site-packages (from langchain-core<0.2.0,>=0.1.31->langchain) (23.2)\n",
      "Requirement already satisfied: orjson<4.0.0,>=3.9.14 in c:\\users\\dell\\anaconda3\\lib\\site-packages (from langsmith<0.2.0,>=0.1.17->langchain) (3.9.15)\n",
      "Requirement already satisfied: typing-extensions>=4.2.0 in c:\\users\\dell\\anaconda3\\lib\\site-packages (from pydantic<3,>=1->langchain) (4.9.0)\n",
      "Requirement already satisfied: charset-normalizer<4,>=2 in c:\\users\\dell\\anaconda3\\lib\\site-packages (from requests<3,>=2->langchain) (2.0.4)\n",
      "Requirement already satisfied: idna<4,>=2.5 in c:\\users\\dell\\anaconda3\\lib\\site-packages (from requests<3,>=2->langchain) (3.4)\n",
      "Requirement already satisfied: urllib3<3,>=1.21.1 in c:\\users\\dell\\anaconda3\\lib\\site-packages (from requests<3,>=2->langchain) (2.0.7)\n",
      "Requirement already satisfied: certifi>=2017.4.17 in c:\\users\\dell\\anaconda3\\lib\\site-packages (from requests<3,>=2->langchain) (2024.2.2)\n",
      "Requirement already satisfied: greenlet!=0.4.17 in c:\\users\\dell\\anaconda3\\lib\\site-packages (from SQLAlchemy<3,>=1.4->langchain) (3.0.1)\n",
      "Requirement already satisfied: sniffio>=1.1 in c:\\users\\dell\\anaconda3\\lib\\site-packages (from anyio<5,>=3->langchain-core<0.2.0,>=0.1.31->langchain) (1.3.0)\n",
      "Requirement already satisfied: mypy-extensions>=0.3.0 in c:\\users\\dell\\anaconda3\\lib\\site-packages (from typing-inspect<1,>=0.4.0->dataclasses-json<0.7,>=0.5.7->langchain) (1.0.0)\n"
     ]
    }
   ],
   "source": [
    "!pip install langchain"
   ]
  },
  {
   "cell_type": "code",
   "execution_count": null,
   "metadata": {},
   "outputs": [],
   "source": [
    "# Important, mettre dans un terminal : \n",
    "# ollama pull llama2\n",
    "# ollama run dolphin-phi"
   ]
  },
  {
   "cell_type": "code",
   "execution_count": 1,
   "metadata": {},
   "outputs": [],
   "source": [
    "from langchain_community.llms import Ollama\n",
    "\n",
    "# llm = Ollama(model=\"llama2\")\n",
    "llm = Ollama(model=\"dolphin-phi\")"
   ]
  },
  {
   "cell_type": "code",
   "execution_count": 2,
   "metadata": {},
   "outputs": [
    {
     "data": {
      "text/plain": [
       "\"1. **Initial Installation:** Git is first installed on your system. It can be downloaded from many different sources like https://git-scm.com/downloads/. Once installed, you can install it using a tool called `curl` or by simply copying and pasting the URL in your terminal.\\n\\n2. **Creating a Repository:** Create a new repository for your coding project. This can be done from the command line by running `git init`.\\n\\n3. **Commit Code Changes:** Whenever you make changes to your code, you need to commit them to the repository. You can do this using the `git add` and `git commit` commands.\\n\\n4. **Checkout a Version of the Repository:** If you want to work on a specific version of the project, you can checkout that version from the repository's history. This can be done using the `git checkout` command.\\n\\n5. **Lists Files and Directories in a Project:** To see what files and directories are in a project, use the `git ls-files` command.\\n\\n6. **View Changes Between Versions:** If you want to see the changes made between two versions of a repository, use the `git diff` command.\\n\\n7. **Clone an Existing Repository:** If you want to work on an existing project without making changes to it, you can clone that repository using the `git clone` command.\\n\\n8. **Pull Changes from Another Repository:** If there are changes in another branch of the same project, you can pull those changes into your local repository using the `git pull` command.\\n\\n9. **Upgrade Git to the Latest Version:** To get access to all the new features and improvements, make sure to upgrade your Git version using the `git update` command.\\n\\n10. **Deactivate or Delete a Repository:** If you no longer need a repository or want to remove it from your system, you can do this by deactivating it with the `git reset --hard HEAD~1` command and deleting it with the `git rm [repository-name]` command.\\n\\nRemember, Git is not just about managing code but also about tracking changes and collaborating with other developers. The basic functions mentioned above will help you get started with using Git for your coding projects.\""
      ]
     },
     "execution_count": 2,
     "metadata": {},
     "output_type": "execute_result"
    }
   ],
   "source": [
    "llm.invoke(\"What are the basicis with git for coding projects ?\")"
   ]
  },
  {
   "cell_type": "code",
   "execution_count": 3,
   "metadata": {},
   "outputs": [],
   "source": [
    "from langchain_core.prompts import ChatPromptTemplate\n",
    "\n",
    "prompt = ChatPromptTemplate.from_messages([\n",
    "    (\"system\", \"You are world class technical documentation writer.\"),\n",
    "    (\"user\", \"{input}\")\n",
    "])\n",
    "\n",
    "chain = prompt | llm "
   ]
  },
  {
   "cell_type": "code",
   "execution_count": 4,
   "metadata": {},
   "outputs": [
    {
     "data": {
      "text/plain": [
       "\"As a language processing software (LangSmith), I can assist with various aspects of testing in a few different ways:\\n\\n1. Code Review and Refactoring: LangSmith can analyze your code for readability, style adherence, and adherence to coding standards. This helps you improve the quality of your codebase over time, making it easier to understand, maintain, and test.\\n\\n2. Find and Fix Errors: I can identify potential issues in your code such as syntax errors, logical flaws, and possible bugs. This reduces the manual work required for testing and increases the reliability of your software.\\n\\n3. Testing-Friendly Language Style: By providing a consistent and well-structured writing style, LangSmith ensures that your documentation is easy to read and understand. This helps developers better comprehend the requirements and design, ultimately improving the effectiveness of their testing.\\n\\n4. Automated Documentation Generation: With the help of AI and machine learning algorithms, I can generate automated documentation for various aspects of your software. This includes API documentation, test cases, user manuals, and more. As a result, you save time on writing and updating documentation, allowing you to focus on other important tasks such as testing.\\n\\n5. Collaboration: LangSmith can facilitate communication between team members by providing features like commenting, highlighting, and linking within your documents. This encourages collaboration, making it easier for developers to review and provide feedback on test plans, requirements, and other documentation-related issues.\\n\\n6. Integration with Testing Frameworks: By integrating with popular testing frameworks (e.g., JUnit, PyTest), you can easily incorporate LangSmith's insights into your testing process. This allows you to create more comprehensive and effective tests while saving time on manual analysis and reporting.\\n\\nIn summary, by automating various aspects of technical documentation writing, providing valuable feedback, and facilitating communication within teams, LangSmith can support and improve the testing process in a software development environment.\""
      ]
     },
     "execution_count": 4,
     "metadata": {},
     "output_type": "execute_result"
    }
   ],
   "source": [
    "chain.invoke({\"input\": \"how can langsmith help with testing?\"})"
   ]
  },
  {
   "cell_type": "code",
   "execution_count": 7,
   "metadata": {},
   "outputs": [],
   "source": [
    "from langchain_core.output_parsers import StrOutputParser\n",
    "\n",
    "output_parser = StrOutputParser()\n",
    "chain = prompt | llm | output_parser"
   ]
  },
  {
   "cell_type": "code",
   "execution_count": 8,
   "metadata": {},
   "outputs": [
    {
     "data": {
      "text/plain": [
       "\"LangSmith is not a tool for testing per se; it's an integrated development environment (IDE) that provides features to write, edit, and debug Java code. However, LangSmith does include some elements that can be beneficial in the testing process:\\n\\n1. Code Linter: LangSmith's linter can help you identify potential issues with your code before starting the actual testing phase by checking for syntax errors, style violations, and other coding best practices. This helps prevent bugs from occurring during testing.\\n\\n2. Test Execution Tools: LangSmith provides tools like `langtest` or `JUnit`, which are popular test execution frameworks in Java. These tools can be used to write, run, and manage tests for your applications.\\n\\n3. Integrated Development Environment (IDE) Features: LangSmith's IDE features such as code navigation, view types, debugger, etc., can aid you during the testing phase by allowing you to quickly traverse through your codebase, identify issues, and fix them efficiently.\\n\\n4. Unit Testing Framework Support: While LangSmith doesn't include a built-in unit testing framework like JUnit, it does support third-party frameworks such as Apache Maven or Gradle for building, running, and managing tests within the IDE. This can be helpful when creating test cases in an automated fashion.\\n\\n5. Output Viewer: LangSmith provides a comprehensive output viewer that displays code, data, logs, etc., which is useful for visualizing the current state of your application during testing. This helps you identify issues and track down bugs more effectively.\\n\\nWhile these features can be helpful in the testing process, it's important to remember that they are just components of an IDE rather than comprehensive testing tools. The best way to leverage LangSmith for testing is by using its integrated development environment (IDE) features effectively, such as code navigation, debugger, and output viewer, along with test execution tools like JUnit or another framework suitable for your project.\""
      ]
     },
     "execution_count": 8,
     "metadata": {},
     "output_type": "execute_result"
    }
   ],
   "source": [
    "chain.invoke({\"input\": \"how can langsmith help with testing?\"})"
   ]
  },
  {
   "cell_type": "code",
   "execution_count": 5,
   "metadata": {},
   "outputs": [
    {
     "name": "stdout",
     "output_type": "stream",
     "text": [
      "Requirement already satisfied: beautifulsoup4 in c:\\users\\dell\\anaconda3\\lib\\site-packages (4.12.2)\n",
      "Requirement already satisfied: soupsieve>1.2 in c:\\users\\dell\\anaconda3\\lib\\site-packages (from beautifulsoup4) (2.5)\n"
     ]
    }
   ],
   "source": [
    "# !pip install beautifulsoup4"
   ]
  },
  {
   "cell_type": "code",
   "execution_count": 9,
   "metadata": {},
   "outputs": [],
   "source": [
    "from langchain_community.document_loaders import WebBaseLoader\n",
    "\n",
    "loader = WebBaseLoader(\"https://docs.smith.langchain.com/user_guide\")\n",
    "docs = loader.load()"
   ]
  },
  {
   "cell_type": "code",
   "execution_count": 11,
   "metadata": {},
   "outputs": [],
   "source": [
    "from langchain_community.embeddings import OllamaEmbeddings\n",
    "\n",
    "embeddings = OllamaEmbeddings()"
   ]
  },
  {
   "cell_type": "code",
   "execution_count": 10,
   "metadata": {},
   "outputs": [
    {
     "name": "stdout",
     "output_type": "stream",
     "text": [
      "Collecting faiss-cpu\n",
      "  Downloading faiss_cpu-1.8.0-cp311-cp311-win_amd64.whl.metadata (3.8 kB)\n",
      "Requirement already satisfied: numpy in c:\\users\\dell\\anaconda3\\lib\\site-packages (from faiss-cpu) (1.26.4)\n",
      "Downloading faiss_cpu-1.8.0-cp311-cp311-win_amd64.whl (14.5 MB)\n",
      "   ---------------------------------------- 0.0/14.5 MB ? eta -:--:--\n",
      "    --------------------------------------- 0.3/14.5 MB 7.0 MB/s eta 0:00:03\n",
      "   -- ------------------------------------- 0.8/14.5 MB 8.3 MB/s eta 0:00:02\n",
      "   --- ------------------------------------ 1.4/14.5 MB 9.6 MB/s eta 0:00:02\n",
      "   ---- ----------------------------------- 1.7/14.5 MB 9.1 MB/s eta 0:00:02\n",
      "   ------ --------------------------------- 2.3/14.5 MB 10.6 MB/s eta 0:00:02\n",
      "   ------- -------------------------------- 2.9/14.5 MB 10.7 MB/s eta 0:00:02\n",
      "   --------- ------------------------------ 3.6/14.5 MB 10.9 MB/s eta 0:00:01\n",
      "   ----------- ---------------------------- 4.1/14.5 MB 11.0 MB/s eta 0:00:01\n",
      "   ------------- -------------------------- 5.0/14.5 MB 11.0 MB/s eta 0:00:01\n",
      "   --------------- ------------------------ 5.5/14.5 MB 11.1 MB/s eta 0:00:01\n",
      "   ---------------- ----------------------- 5.9/14.5 MB 10.8 MB/s eta 0:00:01\n",
      "   ----------------- ---------------------- 6.5/14.5 MB 10.4 MB/s eta 0:00:01\n",
      "   ------------------- -------------------- 7.0/14.5 MB 10.5 MB/s eta 0:00:01\n",
      "   -------------------- ------------------- 7.5/14.5 MB 10.7 MB/s eta 0:00:01\n",
      "   ---------------------- ----------------- 8.1/14.5 MB 10.8 MB/s eta 0:00:01\n",
      "   ------------------------- -------------- 9.1/14.5 MB 10.8 MB/s eta 0:00:01\n",
      "   -------------------------- ------------- 9.7/14.5 MB 10.7 MB/s eta 0:00:01\n",
      "   ---------------------------- ----------- 10.4/14.5 MB 11.1 MB/s eta 0:00:01\n",
      "   ------------------------------ --------- 11.0/14.5 MB 11.1 MB/s eta 0:00:01\n",
      "   -------------------------------- ------- 11.7/14.5 MB 11.1 MB/s eta 0:00:01\n",
      "   ---------------------------------- ----- 12.4/14.5 MB 11.3 MB/s eta 0:00:01\n",
      "   ----------------------------------- ---- 12.9/14.5 MB 10.9 MB/s eta 0:00:01\n",
      "   ------------------------------------- -- 13.6/14.5 MB 11.1 MB/s eta 0:00:01\n",
      "   ---------------------------------------  14.2/14.5 MB 11.3 MB/s eta 0:00:01\n",
      "   ---------------------------------------  14.5/14.5 MB 11.5 MB/s eta 0:00:01\n",
      "   ---------------------------------------- 14.5/14.5 MB 10.5 MB/s eta 0:00:00\n",
      "Installing collected packages: faiss-cpu\n",
      "Successfully installed faiss-cpu-1.8.0\n"
     ]
    }
   ],
   "source": [
    "# !pip install faiss-cpu"
   ]
  },
  {
   "cell_type": "code",
   "execution_count": null,
   "metadata": {},
   "outputs": [],
   "source": [
    "from langchain_community.vectorstores import FAISS\n",
    "from langchain_text_splitters import RecursiveCharacterTextSplitter\n",
    "\n",
    "\n",
    "text_splitter = RecursiveCharacterTextSplitter()\n",
    "documents = text_splitter.split_documents(docs)\n",
    "vector = FAISS.from_documents(documents, embeddings)"
   ]
  },
  {
   "cell_type": "code",
   "execution_count": null,
   "metadata": {},
   "outputs": [],
   "source": []
  },
  {
   "cell_type": "code",
   "execution_count": null,
   "metadata": {},
   "outputs": [],
   "source": []
  },
  {
   "cell_type": "code",
   "execution_count": null,
   "metadata": {},
   "outputs": [],
   "source": []
  },
  {
   "cell_type": "code",
   "execution_count": null,
   "metadata": {},
   "outputs": [],
   "source": []
  },
  {
   "cell_type": "code",
   "execution_count": null,
   "metadata": {},
   "outputs": [],
   "source": []
  }
 ],
 "metadata": {
  "kernelspec": {
   "display_name": "base",
   "language": "python",
   "name": "python3"
  },
  "language_info": {
   "codemirror_mode": {
    "name": "ipython",
    "version": 3
   },
   "file_extension": ".py",
   "mimetype": "text/x-python",
   "name": "python",
   "nbconvert_exporter": "python",
   "pygments_lexer": "ipython3",
   "version": "3.11.7"
  }
 },
 "nbformat": 4,
 "nbformat_minor": 2
}
